{
 "cells": [
  {
   "cell_type": "code",
   "execution_count": 36,
   "metadata": {},
   "outputs": [],
   "source": [
    "from pyspark.sql import SparkSession\n",
    "spark = SparkSession.builder.appName(\"Mllib\").getOrCreate()"
   ]
  },
  {
   "cell_type": "code",
   "execution_count": 37,
   "metadata": {},
   "outputs": [],
   "source": [
    "df = spark.read.csv(\"tips.csv\", header=True, inferSchema=True)"
   ]
  },
  {
   "cell_type": "code",
   "execution_count": 38,
   "metadata": {},
   "outputs": [
    {
     "name": "stdout",
     "output_type": "stream",
     "text": [
      "+----------+----+------+------+---+------+----+\n",
      "|total_bill| tip|   sex|smoker|day|  time|size|\n",
      "+----------+----+------+------+---+------+----+\n",
      "|     16.99|1.01|Female|    No|Sun|Dinner|   2|\n",
      "|     10.34|1.66|  Male|    No|Sun|Dinner|   3|\n",
      "|     21.01| 3.5|  Male|    No|Sun|Dinner|   3|\n",
      "|     23.68|3.31|  Male|    No|Sun|Dinner|   2|\n",
      "|     24.59|3.61|Female|    No|Sun|Dinner|   4|\n",
      "|     25.29|4.71|  Male|    No|Sun|Dinner|   4|\n",
      "|      8.77| 2.0|  Male|    No|Sun|Dinner|   2|\n",
      "|     26.88|3.12|  Male|    No|Sun|Dinner|   4|\n",
      "|     15.04|1.96|  Male|    No|Sun|Dinner|   2|\n",
      "|     14.78|3.23|  Male|    No|Sun|Dinner|   2|\n",
      "|     10.27|1.71|  Male|    No|Sun|Dinner|   2|\n",
      "|     35.26| 5.0|Female|    No|Sun|Dinner|   4|\n",
      "|     15.42|1.57|  Male|    No|Sun|Dinner|   2|\n",
      "|     18.43| 3.0|  Male|    No|Sun|Dinner|   4|\n",
      "|     14.83|3.02|Female|    No|Sun|Dinner|   2|\n",
      "|     21.58|3.92|  Male|    No|Sun|Dinner|   2|\n",
      "|     10.33|1.67|Female|    No|Sun|Dinner|   3|\n",
      "|     16.29|3.71|  Male|    No|Sun|Dinner|   3|\n",
      "|     16.97| 3.5|Female|    No|Sun|Dinner|   3|\n",
      "|     20.65|3.35|  Male|    No|Sat|Dinner|   3|\n",
      "+----------+----+------+------+---+------+----+\n",
      "only showing top 20 rows\n",
      "\n"
     ]
    }
   ],
   "source": [
    "df.show()"
   ]
  },
  {
   "cell_type": "code",
   "execution_count": 39,
   "metadata": {},
   "outputs": [
    {
     "name": "stdout",
     "output_type": "stream",
     "text": [
      "root\n",
      " |-- total_bill: double (nullable = true)\n",
      " |-- tip: double (nullable = true)\n",
      " |-- sex: string (nullable = true)\n",
      " |-- smoker: string (nullable = true)\n",
      " |-- day: string (nullable = true)\n",
      " |-- time: string (nullable = true)\n",
      " |-- size: integer (nullable = true)\n",
      "\n"
     ]
    }
   ],
   "source": [
    "df.printSchema()"
   ]
  },
  {
   "cell_type": "code",
   "execution_count": 40,
   "metadata": {},
   "outputs": [],
   "source": [
    "### Handling Categorical Features\n",
    "from pyspark.ml.feature import StringIndexer\n",
    "\n",
    "categorical_features = [\"sex\", \"smoker\", \"day\", \"time\"]\n",
    "indexer=StringIndexer(inputCols=categorical_features,\n",
    "    outputCols=[col+\"_indexed\" for col in categorical_features])\n",
    "df_r=indexer.fit(df).transform(df)"
   ]
  },
  {
   "cell_type": "code",
   "execution_count": 41,
   "metadata": {},
   "outputs": [
    {
     "name": "stdout",
     "output_type": "stream",
     "text": [
      "+-----------+--------------+-----------+------------+\n",
      "|sex_indexed|smoker_indexed|day_indexed|time_indexed|\n",
      "+-----------+--------------+-----------+------------+\n",
      "|        1.0|           0.0|        1.0|         0.0|\n",
      "|        0.0|           0.0|        1.0|         0.0|\n",
      "|        0.0|           0.0|        1.0|         0.0|\n",
      "|        0.0|           0.0|        1.0|         0.0|\n",
      "|        1.0|           0.0|        1.0|         0.0|\n",
      "|        0.0|           0.0|        1.0|         0.0|\n",
      "|        0.0|           0.0|        1.0|         0.0|\n",
      "|        0.0|           0.0|        1.0|         0.0|\n",
      "|        0.0|           0.0|        1.0|         0.0|\n",
      "|        0.0|           0.0|        1.0|         0.0|\n",
      "|        0.0|           0.0|        1.0|         0.0|\n",
      "|        1.0|           0.0|        1.0|         0.0|\n",
      "|        0.0|           0.0|        1.0|         0.0|\n",
      "|        0.0|           0.0|        1.0|         0.0|\n",
      "|        1.0|           0.0|        1.0|         0.0|\n",
      "|        0.0|           0.0|        1.0|         0.0|\n",
      "|        1.0|           0.0|        1.0|         0.0|\n",
      "|        0.0|           0.0|        1.0|         0.0|\n",
      "|        1.0|           0.0|        1.0|         0.0|\n",
      "|        0.0|           0.0|        0.0|         0.0|\n",
      "+-----------+--------------+-----------+------------+\n",
      "only showing top 20 rows\n",
      "\n"
     ]
    }
   ],
   "source": [
    "df_r[[col for col in df_r.columns if \"index\" in col]].show()"
   ]
  },
  {
   "cell_type": "code",
   "execution_count": 43,
   "metadata": {},
   "outputs": [
    {
     "name": "stdout",
     "output_type": "stream",
     "text": [
      "+--------------------+----------+\n",
      "| Indepented Features|total_bill|\n",
      "+--------------------+----------+\n",
      "|[1.01,2.0,1.0,0.0...|     16.99|\n",
      "|[1.66,3.0,0.0,0.0...|     10.34|\n",
      "|[3.5,3.0,0.0,0.0,...|     21.01|\n",
      "|[3.31,2.0,0.0,0.0...|     23.68|\n",
      "|[3.61,4.0,1.0,0.0...|     24.59|\n",
      "|[4.71,4.0,0.0,0.0...|     25.29|\n",
      "|[2.0,2.0,0.0,0.0,...|      8.77|\n",
      "|[3.12,4.0,0.0,0.0...|     26.88|\n",
      "|[1.96,2.0,0.0,0.0...|     15.04|\n",
      "|[3.23,2.0,0.0,0.0...|     14.78|\n",
      "|[1.71,2.0,0.0,0.0...|     10.27|\n",
      "|[5.0,4.0,1.0,0.0,...|     35.26|\n",
      "|[1.57,2.0,0.0,0.0...|     15.42|\n",
      "|[3.0,4.0,0.0,0.0,...|     18.43|\n",
      "|[3.02,2.0,1.0,0.0...|     14.83|\n",
      "|[3.92,2.0,0.0,0.0...|     21.58|\n",
      "|[1.67,3.0,1.0,0.0...|     10.33|\n",
      "|[3.71,3.0,0.0,0.0...|     16.29|\n",
      "|[3.5,3.0,1.0,0.0,...|     16.97|\n",
      "|(6,[0,1],[3.35,3.0])|     20.65|\n",
      "+--------------------+----------+\n",
      "only showing top 20 rows\n",
      "\n"
     ]
    }
   ],
   "source": [
    "from pyspark.ml.feature import VectorAssembler\n",
    "feature_assembler = VectorAssembler(\n",
    "    inputCols=[\"tip\", \"size\", \"sex_indexed\", \"smoker_indexed\", \"day_indexed\", \"time_indexed\"],\n",
    "    outputCol=\"Indepented Features\")\n",
    "\n",
    "output = feature_assembler.transform(df_r)\n",
    "finalized_output = output.select(\"Indepented Features\", \"total_bill\")\n",
    "\n",
    "finalized_output.show()"
   ]
  },
  {
   "cell_type": "code",
   "execution_count": 44,
   "metadata": {},
   "outputs": [],
   "source": [
    "# Create model\n",
    "from pyspark.ml.regression import LinearRegression\n",
    "train_data, test_data = finalized_output.randomSplit([0.75, 0.25])\n",
    "regressor = LinearRegression(featuresCol=\"Indepented Features\",\n",
    "                             labelCol=\"total_bill\")\n",
    "model = regressor.fit(train_data)"
   ]
  },
  {
   "cell_type": "code",
   "execution_count": 47,
   "metadata": {},
   "outputs": [
    {
     "data": {
      "text/plain": [
       "(DenseVector([3.2302, 3.272, -0.3604, 0.9471, -0.8456, -0.1093]),\n",
       " 2.0569124929073466)"
      ]
     },
     "execution_count": 47,
     "metadata": {},
     "output_type": "execute_result"
    }
   ],
   "source": [
    "model.coefficients, model.intercept"
   ]
  },
  {
   "cell_type": "code",
   "execution_count": 49,
   "metadata": {},
   "outputs": [
    {
     "name": "stdout",
     "output_type": "stream",
     "text": [
      "+--------------------+----------+------------------+\n",
      "| Indepented Features|total_bill|        prediction|\n",
      "+--------------------+----------+------------------+\n",
      "|(6,[0,1],[1.47,2.0])|     10.77|13.349327298244024|\n",
      "|(6,[0,1],[1.75,2.0])|     17.82|14.253771423084864|\n",
      "| (6,[0,1],[2.5,4.0])|     18.35|  23.2204727645451|\n",
      "|(6,[0,1],[2.64,3.0])|     17.59| 20.40065325200438|\n",
      "|(6,[0,1],[2.72,2.0])|     13.28|17.387024284140622|\n",
      "|(6,[0,1],[3.76,2.0])|     18.24|20.746388176406587|\n",
      "| (6,[0,1],[5.0,3.0])|     31.27|28.023825161377154|\n",
      "|(6,[0,1],[5.92,3.0])|     29.03| 30.99557014299705|\n",
      "|[1.17,2.0,0.0,1.0...|     32.83|13.327344165954912|\n",
      "|[1.32,2.0,0.0,0.0...|      9.68|12.019178317996218|\n",
      "|[1.44,2.0,0.0,0.0...|      7.56|11.451822472298854|\n",
      "|[1.5,2.0,0.0,0.0,...|     12.46|10.909356000084898|\n",
      "|[1.66,3.0,0.0,0.0...|     10.34| 16.38947347312123|\n",
      "|[1.67,3.0,1.0,0.0...|     10.33|16.061412235467355|\n",
      "|[1.68,2.0,1.0,0.0...|     13.42| 11.86669748004995|\n",
      "|[1.73,2.0,0.0,0.0...|      9.78|12.388568173026865|\n",
      "|[2.0,2.0,0.0,0.0,...|     13.13|14.215685478323966|\n",
      "|[2.0,2.0,0.0,0.0,...|     13.81|14.215685478323966|\n",
      "|[2.0,2.0,0.0,0.0,...|     15.95| 13.26071072198053|\n",
      "|[2.0,2.0,0.0,1.0,...|      16.0|  14.2077748663066|\n",
      "+--------------------+----------+------------------+\n",
      "only showing top 20 rows\n",
      "\n"
     ]
    }
   ],
   "source": [
    "# Predictions\n",
    "pred_results = model.evaluate(test_data)\n",
    "pred_results.predictions.show()"
   ]
  },
  {
   "cell_type": "code",
   "execution_count": 50,
   "metadata": {},
   "outputs": [
    {
     "data": {
      "text/plain": [
       "(0.4016222001169789, 5.120302399746915, 5.120302399746915)"
      ]
     },
     "execution_count": 50,
     "metadata": {},
     "output_type": "execute_result"
    }
   ],
   "source": [
    "#Performance Metrics\n",
    "pred_results.r2, pred_results.meanAbsoluteError, pred_results.meanAbsoluteError"
   ]
  }
 ],
 "metadata": {
  "kernelspec": {
   "display_name": "Python 3",
   "language": "python",
   "name": "python3"
  },
  "language_info": {
   "codemirror_mode": {
    "name": "ipython",
    "version": 3
   },
   "file_extension": ".py",
   "mimetype": "text/x-python",
   "name": "python",
   "nbconvert_exporter": "python",
   "pygments_lexer": "ipython3",
   "version": "3.9.0"
  },
  "orig_nbformat": 4,
  "vscode": {
   "interpreter": {
    "hash": "3af9be3ac5dde81c1e5b449256be296a11570359ba6af52ac349fd11aa72bcf6"
   }
  }
 },
 "nbformat": 4,
 "nbformat_minor": 2
}
